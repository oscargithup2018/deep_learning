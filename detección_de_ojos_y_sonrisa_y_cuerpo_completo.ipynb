{
  "nbformat": 4,
  "nbformat_minor": 0,
  "metadata": {
    "colab": {
      "name": "Detección de ojos y sonrisa y cuerpo completo.ipynb",
      "provenance": [],
      "collapsed_sections": [
        "R7HXdOIm7o6p"
      ]
    },
    "kernelspec": {
      "name": "python3",
      "display_name": "Python 3"
    }
  },
  "cells": [
    {
      "cell_type": "markdown",
      "metadata": {
        "id": "bt9yacd67iCX",
        "colab_type": "text"
      },
      "source": [
        "# Detector de ojos y sonrisas"
      ]
    },
    {
      "cell_type": "code",
      "metadata": {
        "id": "Zm23Urho-yx7",
        "colab_type": "code",
        "colab": {}
      },
      "source": [
        "#from google.colab import drive\n",
        "#drive.mount('/content/drive')"
      ],
      "execution_count": 0,
      "outputs": []
    },
    {
      "cell_type": "markdown",
      "metadata": {
        "id": "86v58RB870Qi",
        "colab_type": "text"
      },
      "source": [
        "##Importar librerias"
      ]
    },
    {
      "cell_type": "code",
      "metadata": {
        "id": "M6_P-ZbB73BO",
        "colab_type": "code",
        "colab": {}
      },
      "source": [
        "import cv2\n",
        "import numpy as np\n",
        "from google.colab.patches import cv2_imshow"
      ],
      "execution_count": 0,
      "outputs": []
    },
    {
      "cell_type": "markdown",
      "metadata": {
        "id": "R7HXdOIm7o6p",
        "colab_type": "text"
      },
      "source": [
        "##Detector de ojos y sonrisa completo\n"
      ]
    },
    {
      "cell_type": "code",
      "metadata": {
        "id": "hqK26lt27cSd",
        "colab_type": "code",
        "colab": {}
      },
      "source": [
        "import cv2\n",
        "import numpy as np\n",
        "from google.colab.patches import cv2_imshow\n",
        "#load cascade eyes\n",
        "eye_cascade = cv2.CascadeClassifier('/content/drive/My Drive/allprojects/deep/computer_vision/python_files/HaarCascade/haarcascade_eye.xml');\n",
        "\n",
        "#Load cascade smile\n",
        "smile_cascade = cv2.CascadeClassifier('/content/drive/My Drive/allprojects/deep/computer_vision/python_files/HaarCascade/haarcascade_smile.xml');\n",
        "\n",
        "#load image caras\n",
        "# img = cv2.imread(\"/content/drive/My Drive/allprojects/deep/computer_vision/images/caras.jpg\")\n",
        "\n",
        "#load image smiling\n",
        "# img = cv2.imread(\"/content/drive/My Drive/allprojects/deep/computer_vision/images/people_smiling.jpg\")\n",
        "img = cv2.imread(\"/content/drive/My Drive/allprojects/deep/computer_vision/images/people_smiling_2.jpg\")\n",
        "\n",
        "\n",
        "#convert to gray scale\n",
        "gray = cv2.cvtColor(img, cv2.COLOR_BGR2GRAY)\n",
        "\n",
        "# faces = face_cascade.detectMultiScale(gray,1.3,2);\n",
        "# detectMultiScale(image[, scaleFactor[, minNeighbors[, flags[, minSize[, maxSize]]]]]) \n",
        "\n",
        "#detect eyes\n",
        "eyes = eye_cascade.detectMultiScale(gray, 1.15, 10, 1, (24, 28), (100, 80))\n",
        "# eyes = eye_cascade.detectMultiScale(gray, 1.03, 1, 1, (20,20), (30,30))\n",
        "\n",
        "#Detect smile \n",
        "smiles = smile_cascade.detectMultiScale(gray, 4,15, 0, (36,18))\n",
        "# faces = smile_cascade.detectMultiScale(gray, 4,3, 0, (36,18))\n",
        "\n",
        "print(eyes)\n",
        "# print(smiles)\n",
        "every = np.concatenate((eyes, smiles), axis=0)\n",
        "\n",
        "# idx=0\n",
        "for (x,y,w,h) in every:\n",
        "  cv2.rectangle(img,(x,y),(x+w,y+h),(0,255,0),2)\n",
        "  # idx += 1\n",
        "  # cv2.putText(img,\"Eye #{}\".format(idx),(x,y-10),\n",
        "  # cv2.FONT_HERSHEY_SIMPLEX,.5,(0,255,0),1)\n",
        "cv2_imshow(img)\n",
        "cv2.imwrite('/content/drive/My Drive/allprojects/deep/computer_vision/images/generated/eyes_and_smiles.jpg',img)"
      ],
      "execution_count": 0,
      "outputs": []
    },
    {
      "cell_type": "markdown",
      "metadata": {
        "id": "RrECjh3B6Gos",
        "colab_type": "text"
      },
      "source": [
        "##Detección de ojos y sonrisas en video"
      ]
    },
    {
      "cell_type": "code",
      "metadata": {
        "id": "xNNAEgFM6NDR",
        "colab_type": "code",
        "colab": {}
      },
      "source": [
        "import cv2\n",
        "import numpy as np\n",
        "from google.colab.patches import cv2_imshow\n",
        "#load cascade eyes\n",
        "eye_cascade = cv2.CascadeClassifier('/content/drive/My Drive/allprojects/deep/computer_vision/python_files/HaarCascade/haarcascade_eye.xml');\n",
        "\n",
        "#Load cascade smile\n",
        "smile_cascade = cv2.CascadeClassifier('/content/drive/My Drive/allprojects/deep/computer_vision/python_files/HaarCascade/haarcascade_smile.xml');\n",
        "\n",
        "#load image caras\n",
        "# img = cv2.imread(\"/content/drive/My Drive/allprojects/deep/computer_vision/images/caras.jpg\")\n",
        "\n",
        "#load image smiling\n",
        "# img = cv2.imread(\"/content/drive/My Drive/allprojects/deep/computer_vision/images/people_smiling.jpg\")\n",
        "img = cv2.imread(\"/content/drive/My Drive/allprojects/deep/computer_vision/images/people_smiling_2.jpg\")\n",
        "\n",
        "\n",
        "#convert to gray scale\n",
        "gray = cv2.cvtColor(img, cv2.COLOR_BGR2GRAY)\n",
        "\n",
        "# faces = face_cascade.detectMultiScale(gray,1.3,2);\n",
        "# detectMultiScale(image[, scaleFactor[, minNeighbors[, flags[, minSize[, maxSize]]]]]) \n",
        "\n",
        "#detect eyes\n",
        "eyes = eye_cascade.detectMultiScale(gray, 1.15, 10, 1, (24, 28), (100, 80))\n",
        "# eyes = eye_cascade.detectMultiScale(gray, 1.03, 1, 1, (20,20), (30,30))\n",
        "\n",
        "#Detect smile \n",
        "smiles = smile_cascade.detectMultiScale(gray, 4,15, 0, (36,18))\n",
        "# faces = smile_cascade.detectMultiScale(gray, 4,3, 0, (36,18))\n",
        "\n",
        "print(eyes)\n",
        "# print(smiles)\n",
        "every = np.concatenate((eyes, smiles), axis=0)\n",
        "\n",
        "# idx=0\n",
        "for (x,y,w,h) in every:\n",
        "  cv2.rectangle(img,(x,y),(x+w,y+h),(0,255,0),2)\n",
        "  # idx += 1\n",
        "  # cv2.putText(img,\"Eye #{}\".format(idx),(x,y-10),\n",
        "  # cv2.FONT_HERSHEY_SIMPLEX,.5,(0,255,0),1)\n",
        "cv2_imshow(img)\n",
        "cv2.imwrite('/content/drive/My Drive/allprojects/deep/computer_vision/images/generated/eyes_and_smiles.jpg',img)"
      ],
      "execution_count": 0,
      "outputs": []
    },
    {
      "cell_type": "markdown",
      "metadata": {
        "id": "YESVYf2O7k0k",
        "colab_type": "text"
      },
      "source": [
        "##importar video"
      ]
    },
    {
      "cell_type": "code",
      "metadata": {
        "id": "uHYkbS-n7nQW",
        "colab_type": "code",
        "colab": {}
      },
      "source": [
        "videoentrada = cv2.VideoCapture('/content/drive/My Drive/allprojects/deep/computer_vision/images/smiles_and_eyes.mp4')"
      ],
      "execution_count": 0,
      "outputs": []
    },
    {
      "cell_type": "markdown",
      "metadata": {
        "id": "MVZB6Pb07Uts",
        "colab_type": "text"
      },
      "source": [
        "##Obtener información del video"
      ]
    },
    {
      "cell_type": "code",
      "metadata": {
        "id": "KmCzFeyX7UMs",
        "colab_type": "code",
        "outputId": "ed916ace-be73-4d47-87d2-5ba975d78321",
        "colab": {
          "base_uri": "https://localhost:8080/",
          "height": 51
        }
      },
      "source": [
        "property_id = int(cv2.CAP_PROP_FRAME_COUNT) \n",
        "totalframes = int(cv2.VideoCapture.get(videoentrada, property_id))\n",
        "print( \"total de frames: \"+str(totalframes) )\n",
        "print(str(videoentrada.get(3))+\"x\"+str(videoentrada.get(4))+\" pixeles\")"
      ],
      "execution_count": 0,
      "outputs": [
        {
          "output_type": "stream",
          "text": [
            "total de frames: 845\n",
            "640.0x360.0 pixeles\n"
          ],
          "name": "stdout"
        }
      ]
    },
    {
      "cell_type": "markdown",
      "metadata": {
        "id": "hGGNR0vt8P8P",
        "colab_type": "text"
      },
      "source": [
        "##Hacer detección en video"
      ]
    },
    {
      "cell_type": "code",
      "metadata": {
        "id": "Bib6hR086rGa",
        "colab_type": "code",
        "colab": {}
      },
      "source": [
        "#load cascade eyes\n",
        "eye_cascade = cv2.CascadeClassifier('/content/drive/My Drive/allprojects/deep/computer_vision/python_files/HaarCascade/haarcascade_eye.xml');\n",
        "#Load cascade smile\n",
        "smile_cascade = cv2.CascadeClassifier('/content/drive/My Drive/allprojects/deep/computer_vision/python_files/HaarCascade/haarcascade_smile.xml');\n",
        "\n",
        "#video resultante del análisis, definimos el codec DIVX\n",
        "codec = cv2.VideoWriter_fourcc(*'mp4v')\n",
        "# codec = cv2.VideoWriter_fourcc(*'DIVX')\n",
        "\n",
        "videosalida = cv2.VideoWriter('/content/drive/My Drive/allprojects/deep/computer_vision/images/generated/smiles_and_eyes.mp4', codec, 15, (640,360))\n",
        "\n",
        "counter = 0 \n",
        "while (counter < 10):\n",
        "  ret, frame = videoentrada.read()\n",
        "  if ret == True:\n",
        "    # cv2_imshow(frame)\n",
        "    gray = cv2.cvtColor(frame,cv2.COLOR_BGR2GRAY)\n",
        "    eyes = eye_cascade.detectMultiScale(gray, 1.15, 10, 1)\n",
        "    # smiles = smile_cascade.detectMultiScale(gray, 4,15, 0, (36,18))\n",
        "    print(eyes)\n",
        "    # print(smiles)\n",
        "    # every = np.concatenate((eyes, smiles), axis=0)\n",
        "    # print(\"detection:  \" + str(counter))\n",
        "    # counter += 1\n",
        "    # for (x,y,w,h) in faces:\n",
        "    #   cv2.rectangle(frame,(x,y),(x+w,y+h),(0,255,0),2)\n",
        "    # videosalida.write(frame)\n",
        "  else: \n",
        "    print(\"Could not  read the frame or end process\")\n",
        "    break\n",
        "videoentrada.release()\n",
        "videosalida.release()\n",
        "cv2.destroyAllWindows() "
      ],
      "execution_count": 0,
      "outputs": []
    },
    {
      "cell_type": "code",
      "metadata": {
        "id": "uBGHj5Nu8uBv",
        "colab_type": "code",
        "colab": {}
      },
      "source": [
        "#load cascade eyes\n",
        "eye_cascade = cv2.CascadeClassifier('/content/drive/My Drive/allprojects/deep/computer_vision/python_files/HaarCascade/haarcascade_eye.xml');\n",
        "#Load cascade smile\n",
        "smile_cascade = cv2.CascadeClassifier('/content/drive/My Drive/allprojects/deep/computer_vision/python_files/HaarCascade/haarcascade_smile.xml');\n",
        "\n",
        "#video resultante del análisis, definimos el codec DIVX\n",
        "codec = cv2.VideoWriter_fourcc(*'mp4v')\n",
        "# codec = cv2.VideoWriter_fourcc(*'DIVX')\n",
        "\n",
        "videosalida = cv2.VideoWriter('/content/drive/My Drive/allprojects/deep/computer_vision/images/generated/smiles_and_eyes.mp4', codec, 15, (640,360))\n",
        "\n",
        "counter = 0 \n",
        "while (videoentrada.isOpened()):\n",
        "  ret, frame = videoentrada.read()\n",
        "  if ret == True:\n",
        "    cv2_imshow(frame)\n",
        "    gray = cv2.cvtColor(frame,cv2.COLOR_BGR2GRAY)\n",
        "    faces = face_cascade.detectMultiScale(gray, scaleFactor=1.1,minNeighbors=5)\n",
        "    print(\"faces  \" + str(counter))\n",
        "    counter += 1\n",
        "    for (x,y,w,h) in every:\n",
        "      cv2.rectangle(img,(x,y),(x+w,y+h),(0,255,0),2)\n",
        "    cv2_imshow(frame)\n",
        "    # videosalida.write(frame)\n",
        "  else: \n",
        "    print(\"Could not  read the frame or end process\")\n",
        "    break\n",
        "videoentrada.release()\n",
        "videosalida.release()\n",
        "cv2.destroyAllWindows() "
      ],
      "execution_count": 0,
      "outputs": []
    },
    {
      "cell_type": "markdown",
      "metadata": {
        "id": "k2Xe5BDY7tMg",
        "colab_type": "text"
      },
      "source": [
        "# Detector de cuerpo completo"
      ]
    },
    {
      "cell_type": "code",
      "metadata": {
        "id": "6aXXgNA27wI8",
        "colab_type": "code",
        "colab": {}
      },
      "source": [
        "import cv2\n",
        "import numpy as np\n",
        "from google.colab.patches import cv2_imshow\n",
        "\n",
        "#load cascade full_body\n",
        "full_body = cv2.CascadeClassifier('/content/drive/My Drive/allprojects/deep/computer_vision/python_files/HaarCascade/haarcascade_fullbody.xml');\n",
        "\n",
        "#load image bodies\n",
        "# img = cv2.imread(\"/content/drive/My Drive/allprojects/deep/computer_vision/images/full_body.jpg\")\n",
        "img = cv2.imread(\"/content/drive/My Drive/allprojects/deep/computer_vision/images/full_body_2.jpg\")\n",
        "\n",
        "#convert to gray scale\n",
        "gray = cv2.cvtColor(img, cv2.COLOR_BGR2GRAY)\n",
        "\n",
        "#detect body\n",
        "bodies = full_body.detectMultiScale(gray, 1.1, 1, 0)\n",
        "print(bodies)\n",
        "\n",
        "idx=0\n",
        "for (x,y,w,h) in bodies:\n",
        "  cv2.rectangle(img,(x,y),(x+w,y+h),(0,255,0),2)\n",
        "  idx += 1\n",
        "  cv2.putText(img,\"Body #{}\".format(idx),(x,y-10),\n",
        "  cv2.FONT_HERSHEY_SIMPLEX,.5,(0,255,0),1)\n",
        "cv2_imshow(img)\n",
        "# cv2.imwrite('/content/drive/My Drive/allprojects/deep/computer_vision/images/generated/eyes_and_smiles.jpg',img)"
      ],
      "execution_count": 0,
      "outputs": []
    },
    {
      "cell_type": "markdown",
      "metadata": {
        "id": "84JkIP1xANG8",
        "colab_type": "text"
      },
      "source": [
        "##Importar video"
      ]
    },
    {
      "cell_type": "code",
      "metadata": {
        "id": "q5jHuQ-hAQIW",
        "colab_type": "code",
        "colab": {}
      },
      "source": [
        "videoentrada = cv2.VideoCapture('/content/drive/My Drive/allprojects/deep/computer_vision/images/people street.mp4')"
      ],
      "execution_count": 0,
      "outputs": []
    },
    {
      "cell_type": "markdown",
      "metadata": {
        "id": "CDuEvJ5RAF0N",
        "colab_type": "text"
      },
      "source": [
        "##Otener información del video"
      ]
    },
    {
      "cell_type": "code",
      "metadata": {
        "id": "36iW5eb8AJxo",
        "colab_type": "code",
        "outputId": "cd2357a7-e1ea-4bf2-9fca-0d20e820ae25",
        "colab": {
          "base_uri": "https://localhost:8080/",
          "height": 51
        }
      },
      "source": [
        "property_id = int(cv2.CAP_PROP_FRAME_COUNT) \n",
        "totalframes = int(cv2.VideoCapture.get(videoentrada, property_id))\n",
        "print( \"total de frames: \"+str(totalframes) )\n",
        "print(str(videoentrada.get(3))+\"x\"+str(videoentrada.get(4))+\" pixeles\")"
      ],
      "execution_count": 0,
      "outputs": [
        {
          "output_type": "stream",
          "text": [
            "total de frames: 729\n",
            "640.0x360.0 pixeles\n"
          ],
          "name": "stdout"
        }
      ]
    },
    {
      "cell_type": "markdown",
      "metadata": {
        "id": "kLBOfUnb_HdS",
        "colab_type": "text"
      },
      "source": [
        "##Detección en video"
      ]
    },
    {
      "cell_type": "code",
      "metadata": {
        "id": "WTQGhVRj_N-O",
        "colab_type": "code",
        "colab": {}
      },
      "source": [
        "videoentrada = cv2.VideoCapture('/content/drive/My Drive/allprojects/deep/computer_vision/images/people street.mp4')\n",
        "\n",
        "full_body = cv2.CascadeClassifier('/content/drive/My Drive/allprojects/deep/computer_vision/python_files/HaarCascade/haarcascade_fullbody.xml');\n",
        "\n",
        "#video resultante del análisis, definimos el codec DIVX\n",
        "codec = cv2.VideoWriter_fourcc(*'mp4v')\n",
        "# codec = cv2.VideoWriter_fourcc(*'DIVX')\n",
        "\n",
        "videosalida = cv2.VideoWriter('/content/drive/My Drive/allprojects/deep/computer_vision/images/generated/people street.mp4', codec, 15, (640,360))\n",
        "\n",
        "counter = 0 \n",
        "while (videoentrada.isOpened()):\n",
        "  ret, frame = videoentrada.read()\n",
        "  if ret == True:\n",
        "    # cv2_imshow(frame)\n",
        "    gray = cv2.cvtColor(frame,cv2.COLOR_BGR2GRAY)\n",
        "    bodies = full_body.detectMultiScale(gray, scaleFactor=1.1,minNeighbors=5)\n",
        "    print(\"Bodies:  \" + str(counter))\n",
        "    counter += 1\n",
        "    for (x,y,w,h) in bodies:\n",
        "      cv2.rectangle(frame,(x,y),(x+w,y+h),(0,255,0),2)\n",
        "    cv2_imshow(frame)\n",
        "    # videosalida.write(frame)\n",
        "  else: \n",
        "    print(\"Could not  read the frame or end process\")\n",
        "    break\n",
        "videoentrada.release()\n",
        "videosalida.release()\n",
        "cv2.destroyAllWindows()"
      ],
      "execution_count": 0,
      "outputs": []
    }
  ]
}